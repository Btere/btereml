{
  "cells": [
    {
      "cell_type": "markdown",
      "metadata": {
        "id": "view-in-github",
        "colab_type": "text"
      },
      "source": [
        "<a href=\"https://colab.research.google.com/github/Btere/btereml/blob/main/Arrythmia_detection.ipynb\" target=\"_parent\"><img src=\"https://colab.research.google.com/assets/colab-badge.svg\" alt=\"Open In Colab\"/></a>"
      ]
    },
    {
      "cell_type": "code",
      "execution_count": null,
      "metadata": {
        "id": "xaJ7dTPvDAtV"
      },
      "outputs": [],
      "source": [
        "import numpy as np\n",
        "import numpy.typing as npt\n",
        "import seaborn as sns\n",
        "from sklearn.model_selection import train_test_split\n",
        "from sklearn.ensemble import RandomForestClassifier\n",
        "from sklearn.preprocessing import LabelEncoder\n",
        "from pathlib import Path\n",
        "import logging\n",
        "from typing import List\n",
        "import itertools\n",
        "import logging\n",
        "import torch\n",
        "import matplotlib.colors as colors\n",
        "import numpy as np\n",
        "import numpy.typing as npt\n",
        "import seaborn as sns\n",
        "import pandas as pd\n",
        "import matplotlib.pyplot as plt\n",
        "from sklearn import metrics\n",
        "from sklearn.utils import resample\n",
        "from sklearn.metrics import confusion_matrix, f1_score, precision_score, accuracy_score, recall_score\n",
        "from typing import NewType, Tuple, TypedDict, Dict, List\n",
        "%matplotlib inline\n",
        "\n"
      ]
    },
    {
      "cell_type": "markdown",
      "metadata": {
        "id": "Hxz7oE-vfx8s"
      },
      "source": [
        "# New section"
      ]
    },
    {
      "cell_type": "markdown",
      "source": [
        "Arrhythmia detection: This is irregular hearbeat."
      ],
      "metadata": {
        "id": "akDlTL5eftL7"
      }
    },
    {
      "cell_type": "code",
      "source": [
        "device = \"cuda\" if torch.cuda.is_available() else \"cpu\"\n",
        "\n",
        "logger = logging.getLogger(__name__)\n",
        "\n",
        "logging.basicConfig(level=logging.INFO)"
      ],
      "metadata": {
        "id": "8O_89kRImnfE"
      },
      "execution_count": null,
      "outputs": []
    },
    {
      "cell_type": "code",
      "execution_count": null,
      "metadata": {
        "id": "Ug7G4WDDgsb-"
      },
      "outputs": [],
      "source": [
        "DATASET_PATH = Path(\"/content/drive/MyDrive/ECG_dataset/dataset/mit-bih_arrhythmia_database.csv\")\n",
        "\n",
        "load_dataset = pd.read_csv(DATASET_PATH)\n",
        "load_dataset\n"
      ]
    },
    {
      "cell_type": "code",
      "source": [
        "load_dataset.size"
      ],
      "metadata": {
        "id": "17opKoOIqWSO"
      },
      "execution_count": null,
      "outputs": []
    },
    {
      "cell_type": "code",
      "source": [
        "load_dataset.shape"
      ],
      "metadata": {
        "id": "HK1XaulYqlZQ"
      },
      "execution_count": null,
      "outputs": []
    },
    {
      "cell_type": "code",
      "source": [
        "x = torch.zeros(3,3)"
      ],
      "metadata": {
        "id": "NPqgeU-E1yBx"
      },
      "execution_count": null,
      "outputs": []
    },
    {
      "cell_type": "code",
      "execution_count": null,
      "metadata": {
        "id": "UK_w-Zr6E4HV"
      },
      "outputs": [],
      "source": [
        "print(\"shape of dataset\",load_dataset.shape)\n",
        "print(\"size of dataset\", load_dataset.size)"
      ]
    },
    {
      "cell_type": "code",
      "execution_count": null,
      "metadata": {
        "id": "W-lZ0Vn_FYWQ"
      },
      "outputs": [],
      "source": [
        "load_dataset.nunique()"
      ]
    },
    {
      "cell_type": "code",
      "source": [
        "load_dataset[\"type\"].value_counts()"
      ],
      "metadata": {
        "id": "BM3k-4z_SbgB"
      },
      "execution_count": null,
      "outputs": []
    },
    {
      "cell_type": "markdown",
      "source": [
        "Transform multi-class labels into binary-class (arrhythmia and normal)"
      ],
      "metadata": {
        "id": "Vq-3SyyXmUle"
      }
    },
    {
      "cell_type": "code",
      "execution_count": null,
      "metadata": {
        "id": "P5wjSGMwM08g"
      },
      "outputs": [],
      "source": [
        "load_dataset['target'] = load_dataset.type.replace(['VEB', 'SVEB', 'F', 'Q'], 'arrhythmia').replace(['N'], 'normal')\n",
        "load_dataset.target.unique()"
      ]
    },
    {
      "cell_type": "code",
      "execution_count": null,
      "metadata": {
        "id": "FsKyoK3VQ_3-"
      },
      "outputs": [],
      "source": [
        "load_dataset[load_dataset.target=='arrhythmia']"
      ]
    },
    {
      "cell_type": "code",
      "execution_count": null,
      "metadata": {
        "id": "74iL3qDDRZ0n"
      },
      "outputs": [],
      "source": [
        "#drop the record column because its the id for the patient and the type because we have the target column\n",
        "\n",
        "new_dataframe = load_dataset.drop(columns=['record','type'])\n",
        "\n",
        "new_dataframe.head(20000)"
      ]
    },
    {
      "cell_type": "code",
      "execution_count": null,
      "metadata": {
        "id": "LRnNms19E4Aq"
      },
      "outputs": [],
      "source": [
        "print(\"info about dataset\", new_dataframe.info())\n"
      ]
    },
    {
      "cell_type": "code",
      "source": [
        "new_dataframe[\"target\"].value_counts()"
      ],
      "metadata": {
        "id": "4iLkyvFQHnZw"
      },
      "execution_count": null,
      "outputs": []
    },
    {
      "cell_type": "code",
      "execution_count": null,
      "metadata": {
        "id": "3sJ10gFUTAfU"
      },
      "outputs": [],
      "source": [
        "def resample(dataset:pd.DataFrame, label: str, n_sample: int)-> pd.DataFrame:\n",
        "  \"\"\"Resamples the dataset to have the same amount of data.\n",
        "\n",
        "    Args:\n",
        "        dataset: The input dataset to be resampled.\n",
        "        label: The column with label values\n",
        "        n_sample: The desired number of samples for each class after resampling.\n",
        "\n",
        "    Returns:\n",
        "          Resampled dataset with the specified number of samples for the given class.\n",
        "  \"\"\"\n",
        "\n",
        "  data = dataset[dataset['target'] == label].sample(n=n_sample)\n",
        "  return data\n",
        "\n",
        "new_data: List[pd.DataFrame] = []\n",
        "\n",
        "for label in new_dataframe.target.unique():\n",
        "  new_data.append(resample(new_dataframe,label, 10606))\n",
        "\n",
        "new_dataset = pd.concat(new_data)\n",
        "new_dataset = new_dataset.reset_index(drop=True)\n"
      ]
    },
    {
      "cell_type": "code",
      "source": [
        "def plot_confusion_matrix(confusion_matrix: npt.NDArray[np.int64], class_name: List[str], normalize: bool = False, title: str = 'Confusion matrix',\n",
        "                          cmap: colors.LinearSegmentedColormap = plt.cm.Blues) -> None:\n",
        "    \"\"\"Prints and plots the confusion matrix.\n",
        "    Normalization can be applied by setting `normalize=True`.\n",
        "    \"\"\"\n",
        "\n",
        "    if normalize:\n",
        "        confusion_matrix = confusion_matrix.astype('float') / confusion_matrix.sum(axis=1)[:, np.newaxis]\n",
        "\n",
        "    plt.figure(figsize=(len(class_name), len(class_name)))\n",
        "    sns.heatmap(confusion_matrix, annot=True, fmt=\".2f\" if normalize else \"d\", cmap=cmap, xticklabels=class_name, yticklabels=class_name)\n",
        "\n",
        "    plt.title(title)\n",
        "    plt.xlabel('Predicted label')\n",
        "    plt.ylabel('True label')\n",
        "    plt.show()"
      ],
      "metadata": {
        "id": "mNwFHYMFnprS"
      },
      "execution_count": null,
      "outputs": []
    },
    {
      "cell_type": "code",
      "execution_count": null,
      "metadata": {
        "id": "Yh05LeReZMSl"
      },
      "outputs": [],
      "source": [
        "new_dataset.nunique()"
      ]
    },
    {
      "cell_type": "markdown",
      "source": [
        "Split data into training and testing set"
      ],
      "metadata": {
        "id": "IN6vST1emwQr"
      }
    },
    {
      "cell_type": "code",
      "execution_count": null,
      "metadata": {
        "id": "8yZhO9SUDgvH"
      },
      "outputs": [],
      "source": [
        "xlabel = new_dataset.iloc[:, :-1]\n",
        "xlabel.shape"
      ]
    },
    {
      "cell_type": "code",
      "execution_count": null,
      "metadata": {
        "id": "0t2ulwdcDgsV"
      },
      "outputs": [],
      "source": [
        "ylabel = new_dataset[[\"target\"]]\n",
        "ylabel.value_counts()\n",
        "ylabel.shape"
      ]
    },
    {
      "cell_type": "markdown",
      "source": [
        "Data visualizing"
      ],
      "metadata": {
        "id": "XFcZpvpIkRrX"
      }
    },
    {
      "cell_type": "code",
      "execution_count": null,
      "metadata": {
        "id": "eYbYJinTDgjf"
      },
      "outputs": [],
      "source": [
        "numeric_cols = ylabel.select_dtypes(include=['float64', 'int64']).columns\n",
        "\n",
        "# Filtering for Normal and Arrhythmia\n",
        "normal_data = ylabel[ylabel['target'] == 'normal']\n",
        "arrhythmia_data = ylabel[ylabel['target'] == 'arrhythmia']\n",
        "\n",
        "# Plot histograms for Normal\n",
        "for col in numeric_cols:\n",
        "    plt.figure(figsize=(8, 6))\n",
        "    plt.hist(normal_data[col], bins=30, color='blue', alpha=0.7, label='Normal')\n",
        "    plt.title(f'Histogram of {col} for Normal')\n",
        "    plt.xlabel(col)\n",
        "    plt.ylabel('Frequency')\n",
        "    plt.legend()\n",
        "    plt.grid(True)\n",
        "    plt.show()\n",
        "\n",
        "# Plot histograms for Arrhythmia\n",
        "for col in numeric_cols:\n",
        "    plt.figure(figsize=(8, 6))\n",
        "    plt.hist(arrhythmia_data[col], bins=30, color='orange', alpha=0.7, label='Arrhythmia')\n",
        "    plt.title(f'Histogram of {col} for Arrhythmia')\n",
        "    plt.xlabel(col)\n",
        "    plt.ylabel('Frequency')\n",
        "    plt.legend()\n",
        "    plt.grid(True)\n",
        "    plt.show()\n",
        "\n",
        "\n"
      ]
    },
    {
      "cell_type": "code",
      "execution_count": null,
      "metadata": {
        "id": "jKv2MsU1DgV4"
      },
      "outputs": [],
      "source": [
        "sns.countplot(y=ylabel[\"target\"])\n",
        "plt.show()\n",
        "\n"
      ]
    },
    {
      "cell_type": "code",
      "execution_count": null,
      "metadata": {
        "id": "u-Wyo8BNIkwd"
      },
      "outputs": [],
      "source": [
        "# Split data into train and test set\n",
        "\n",
        "X_train, X_test, y_train, y_test = train_test_split(xlabel, ylabel, random_state=101)\n"
      ]
    },
    {
      "cell_type": "code",
      "source": [
        "X_train.shape, X_test.shape, y_train.shape, y_test.shape"
      ],
      "metadata": {
        "id": "sbl6V7hIfLln"
      },
      "execution_count": null,
      "outputs": []
    },
    {
      "cell_type": "code",
      "source": [
        "from sklearn.preprocessing import StandardScaler\n",
        "scaler= StandardScaler()"
      ],
      "metadata": {
        "id": "yOwHo9ut3hXw"
      },
      "execution_count": null,
      "outputs": []
    },
    {
      "cell_type": "code",
      "source": [
        "X_train = scaler.fit_transform(X_train)\n",
        "X_test = scaler.transform(X_test)\n"
      ],
      "metadata": {
        "id": "UbthV7NZ3sxp"
      },
      "execution_count": null,
      "outputs": []
    },
    {
      "cell_type": "code",
      "execution_count": null,
      "metadata": {
        "id": "Ox-2qlEnIkzq"
      },
      "outputs": [],
      "source": [
        "# Model training\n",
        "\n",
        "model = RandomForestClassifier(random_state=101, n_estimators=150)\n",
        "model.fit(X_train, y_train)\n",
        "\n",
        "# training accuracy\n",
        "print('Accuracy for the train data', model.score(X_train, y_train.values.ravel()))"
      ]
    },
    {
      "cell_type": "code",
      "execution_count": null,
      "metadata": {
        "id": "KflR7pR9Ik2b"
      },
      "outputs": [],
      "source": [
        "# model evaluation\n",
        "\n",
        "y_pred = model.predict(X_test)\n",
        "print(\"Accuracy:\", metrics.accuracy_score(y_test, y_pred))\n",
        "\n",
        "print(metrics.confusion_matrix(y_test, y_pred))"
      ]
    },
    {
      "cell_type": "code",
      "source": [],
      "metadata": {
        "id": "abufMVz9lZ_K"
      },
      "execution_count": null,
      "outputs": []
    },
    {
      "cell_type": "code",
      "source": [],
      "metadata": {
        "id": "2ANg8v19lZF9"
      },
      "execution_count": null,
      "outputs": []
    },
    {
      "cell_type": "code",
      "source": [],
      "metadata": {
        "id": "qO-tC_0GlZDg"
      },
      "execution_count": null,
      "outputs": []
    },
    {
      "cell_type": "code",
      "source": [],
      "metadata": {
        "id": "JtCLpYOulZAO"
      },
      "execution_count": null,
      "outputs": []
    },
    {
      "cell_type": "code",
      "source": [],
      "metadata": {
        "id": "dIcA42zIlY9j"
      },
      "execution_count": null,
      "outputs": []
    },
    {
      "cell_type": "code",
      "source": [],
      "metadata": {
        "id": "e_Ps87AxlY68"
      },
      "execution_count": null,
      "outputs": []
    },
    {
      "cell_type": "code",
      "source": [],
      "metadata": {
        "id": "32Qev3sNlY4W"
      },
      "execution_count": null,
      "outputs": []
    },
    {
      "cell_type": "code",
      "source": [],
      "metadata": {
        "id": "IB91gdhglYni"
      },
      "execution_count": null,
      "outputs": []
    },
    {
      "cell_type": "code",
      "source": [],
      "metadata": {
        "id": "vvGfIdp5lYlQ"
      },
      "execution_count": null,
      "outputs": []
    },
    {
      "cell_type": "code",
      "source": [],
      "metadata": {
        "id": "XJYGxloFlYjD"
      },
      "execution_count": null,
      "outputs": []
    },
    {
      "cell_type": "code",
      "source": [],
      "metadata": {
        "id": "2wfn80rQlYgN"
      },
      "execution_count": null,
      "outputs": []
    },
    {
      "cell_type": "code",
      "source": [],
      "metadata": {
        "id": "Bp2XV4IjlYdp"
      },
      "execution_count": null,
      "outputs": []
    },
    {
      "cell_type": "code",
      "source": [],
      "metadata": {
        "id": "8GJZ9hIZlYab"
      },
      "execution_count": null,
      "outputs": []
    },
    {
      "cell_type": "code",
      "source": [],
      "metadata": {
        "id": "GQRJv8urlYX_"
      },
      "execution_count": null,
      "outputs": []
    },
    {
      "cell_type": "code",
      "source": [],
      "metadata": {
        "id": "nZyPZUd8lYU2"
      },
      "execution_count": null,
      "outputs": []
    },
    {
      "cell_type": "code",
      "source": [],
      "metadata": {
        "id": "D9XDtnEplYRs"
      },
      "execution_count": null,
      "outputs": []
    },
    {
      "cell_type": "code",
      "source": [],
      "metadata": {
        "id": "5Wvz2omBlYLB"
      },
      "execution_count": null,
      "outputs": []
    },
    {
      "cell_type": "code",
      "source": [],
      "metadata": {
        "id": "lN357B6flX8P"
      },
      "execution_count": null,
      "outputs": []
    },
    {
      "cell_type": "code",
      "source": [],
      "metadata": {
        "id": "0RwTVzXTlXpS"
      },
      "execution_count": null,
      "outputs": []
    },
    {
      "cell_type": "code",
      "source": [],
      "metadata": {
        "id": "XhNMwr-slXmm"
      },
      "execution_count": null,
      "outputs": []
    },
    {
      "cell_type": "code",
      "source": [],
      "metadata": {
        "id": "LmWULcsTlXj7"
      },
      "execution_count": null,
      "outputs": []
    },
    {
      "cell_type": "code",
      "source": [],
      "metadata": {
        "id": "jxqZvqbPlXhV"
      },
      "execution_count": null,
      "outputs": []
    },
    {
      "cell_type": "code",
      "source": [],
      "metadata": {
        "id": "5YgJ2KeKlXeu"
      },
      "execution_count": null,
      "outputs": []
    },
    {
      "cell_type": "code",
      "source": [],
      "metadata": {
        "id": "Y7agDzmllXa2"
      },
      "execution_count": null,
      "outputs": []
    },
    {
      "cell_type": "code",
      "source": [],
      "metadata": {
        "id": "JbnUnYFZlXXg"
      },
      "execution_count": null,
      "outputs": []
    },
    {
      "cell_type": "code",
      "source": [],
      "metadata": {
        "id": "YVlXJJ2olgEy"
      },
      "execution_count": null,
      "outputs": []
    },
    {
      "cell_type": "code",
      "source": [],
      "metadata": {
        "id": "bzGZ1zXMlgBh"
      },
      "execution_count": null,
      "outputs": []
    },
    {
      "cell_type": "code",
      "source": [],
      "metadata": {
        "id": "wXzIxUuFlf-K"
      },
      "execution_count": null,
      "outputs": []
    },
    {
      "cell_type": "code",
      "source": [],
      "metadata": {
        "id": "zBuGLoqHlf7U"
      },
      "execution_count": null,
      "outputs": []
    },
    {
      "cell_type": "code",
      "source": [],
      "metadata": {
        "id": "NZU2VqMClf4s"
      },
      "execution_count": null,
      "outputs": []
    },
    {
      "cell_type": "code",
      "source": [
        "def _model_training(dataset:pd.DataFrame, xdata: str, ydata: str, test_size: float = 0.2, random_state: int = 101, n_estimators=150)-> Tuple[RandomForestClassifier, pd.DataFrame, pd.Series]:\n",
        "  \"\"\"\n",
        "    Splits the dataset, trains, and evaluates the model.\n",
        "\n",
        "    Args:\n",
        "        dataset: The input dataset.\n",
        "        xdata: The column with feature values.\n",
        "        ydata: The column with label values.\n",
        "        test_size: The proportion of the dataset to include in the test split.\n",
        "        random_state: Seed for random number generation.\n",
        "\n",
        "    Returns: None\n",
        "  \"\"\"\n",
        "  xlabel = new_dataset.iloc[:, :-1]\n",
        "  ylabel = new_dataset[['target']]\n",
        "\n",
        "  label_encoder = LabelEncoder()\n",
        "  ydata_encoded = label_encoder.fit_transform(ylabel)\n",
        "\n",
        "  X_train, X_test, y_train, y_test = train_test_split(xlabel, ydata_encoded, test_size=test_size)\n",
        "  scaler= StandardScaler()\n",
        "  X_train = scaler.fit_transform(X_train)\n",
        "  X_test = scaler.transform(X_test)\n",
        "  model = RandomForestClassifier(random_state=random_state, n_estimators=n_estimators)\n",
        "  model.fit(X_train, y_train)\n",
        "\n",
        "  return model, X_train, y_train\n"
      ],
      "metadata": {
        "id": "d375nriB0x6O"
      },
      "execution_count": null,
      "outputs": []
    },
    {
      "cell_type": "code",
      "source": [],
      "metadata": {
        "id": "nwh0NTk185XC"
      },
      "execution_count": null,
      "outputs": []
    },
    {
      "cell_type": "code",
      "execution_count": null,
      "metadata": {
        "id": "DcVX9eVsIk-T"
      },
      "outputs": [],
      "source": [
        "def _eval_metrics(y_test: pd.Series, y_pred: pd.Series) -> Tuple[float, float,float,float]:\n",
        "  \"\"\"\n",
        "    Evaluates a trained RandomForestClassifier and log results.\n",
        "\n",
        "    Args:\n",
        "        clf: Trained classifier.\n",
        "        X_test: Features for evaluation.\n",
        "        y_test: True labels for evaluation.\n",
        "  \"\"\"\n",
        "  y_pred = model.predict(X_test)\n",
        "  accuracy = accuracy_score(y_test, y_pred)\n",
        "  f1 = f1_score(y_test, y_pred)\n",
        "  precision = precision_score(y_test, y_pred)\n",
        "  recall = recall_score(y_test, y_pred)\n",
        "\n",
        "  return accuracy, f1, precision, recall\n",
        "\n",
        "accuracy, f1, precision,recall = _eval_metrics(y_test, y_pred)\n",
        "print(f\"Accuracy: {accuracy:.4f}\")\n",
        "print(f\"F1 Score: {f1:.4f}\")\n",
        "print(f\"Precision: {precision:.4f}\")\n",
        "print(f\"Recall: {recall:.4f}\")\n"
      ]
    },
    {
      "cell_type": "code",
      "execution_count": null,
      "metadata": {
        "id": "keK_sIHIIlBh"
      },
      "outputs": [],
      "source": [
        "confusion_matrix = metrics.confusion_matrix(y_test, y_pred)"
      ]
    },
    {
      "cell_type": "code",
      "execution_count": null,
      "metadata": {
        "id": "Ya624cjHIlEH"
      },
      "outputs": [],
      "source": [
        "plt.figure(figsize=(9,9))\n",
        "sns.heatmap(confusion_matrix, annot=True, fmt=\".3f\", linewidths=.5, square = True, cmap = 'Blues_r');\n",
        "plt.ylabel('Actual label');\n",
        "plt.xlabel('Predicted label');\n"
      ]
    },
    {
      "cell_type": "code",
      "source": [
        "scaler= StandardScaler()\n",
        "X_train = scaler.fit_transform(X_train)\n",
        "X_test = scaler.transform(X_test)"
      ],
      "metadata": {
        "id": "hJgm48bc-35e"
      },
      "execution_count": null,
      "outputs": []
    },
    {
      "cell_type": "code",
      "source": [
        "from sklearn.svm import SVC\n",
        "svm_model = SVC(kernel='linear',C=10, max_iter=1000, verbose=True)\n",
        "svm_model.fit(X_train, y_train)\n",
        "svm_pred = svm_model.predict(X_test)\n",
        "svm_accuracy = accuracy_score(y_test, svm_pred)\n",
        "print(\"SVM Accuracy:\", svm_accuracy)"
      ],
      "metadata": {
        "id": "tmXCFuxIjzYj"
      },
      "execution_count": null,
      "outputs": []
    },
    {
      "cell_type": "code",
      "source": [],
      "metadata": {
        "id": "Zigk056JjzVt"
      },
      "execution_count": null,
      "outputs": []
    },
    {
      "cell_type": "code",
      "execution_count": null,
      "metadata": {
        "id": "-C1F9Bwhp3H4"
      },
      "outputs": [],
      "source": [
        "# DataLoader\n",
        "def prepare_dataloaders(xtrain: npt.NDArray[np.float64], ytrain: npt.NDArray[np.float64],\n",
        "                        xtest:npt.NDArray[np.float64],ytest:npt.NDArray[np.float64],\n",
        "                        batch_size:int = 64, shuffle: bool = True) -> Tuple[DataLoader, DataLoader]:\n",
        "                        \"\"\"Prepare train and test dataloaders\n",
        "                            Args:\n",
        "                          xtrain: Data used as train input.\n",
        "                          ytrain: Data used as train output.\n",
        "                          xtest: Data used as test input.\n",
        "                          ytest: Data used as test output.\n",
        "                          batch_size: Number of samples that will be propagated through the network\n",
        "                          shuffle: If true- randomly shuffles data.\n",
        "\n",
        "                          Returns:\n",
        "                          Dataloaders for train and test.\n",
        "                          \"\"\"\n",
        "                          train_dataset = TensorDataset(torch.Tensor(xtrain), torch.Tensor(ytrain))\n",
        "                          train_dataloader = DataLoader(train_dataset, batch_size=batch_size, shuffle=shuffle)\n",
        "\n",
        "                          test_dataset = TensorDataset(torch.Tensor(xtest), torch.Tensor(ytest))\n",
        "                          test_dataloader = DataLoader(test_dataset, batch_size=batch_size, shuffle=shuffle)\n",
        "\n",
        "                          return train_dataloader, test_dataloader\n"
      ]
    },
    {
      "cell_type": "code",
      "execution_count": null,
      "metadata": {
        "id": "30uOTABL7aKe"
      },
      "outputs": [],
      "source": []
    },
    {
      "cell_type": "code",
      "execution_count": null,
      "metadata": {
        "id": "I3GZ64f37aNp"
      },
      "outputs": [],
      "source": []
    },
    {
      "cell_type": "code",
      "execution_count": null,
      "metadata": {
        "id": "reZQR_Zr7aQe"
      },
      "outputs": [],
      "source": []
    },
    {
      "cell_type": "code",
      "execution_count": null,
      "metadata": {
        "id": "3OLcyEHF7aXr"
      },
      "outputs": [],
      "source": []
    },
    {
      "cell_type": "code",
      "execution_count": null,
      "metadata": {
        "id": "t6-zGxIH7aar"
      },
      "outputs": [],
      "source": []
    },
    {
      "cell_type": "code",
      "execution_count": null,
      "metadata": {
        "id": "dyR7FmrQ7adu"
      },
      "outputs": [],
      "source": []
    },
    {
      "cell_type": "code",
      "execution_count": null,
      "metadata": {
        "id": "xn4gDLw67age"
      },
      "outputs": [],
      "source": []
    }
  ],
  "metadata": {
    "accelerator": "GPU",
    "colab": {
      "provenance": [],
      "gpuType": "T4",
      "mount_file_id": "1bDzD4wvXx3Fi_xszayhcDlip4evO3Tb0",
      "authorship_tag": "ABX9TyMletrVue3VS7RF/RGsR2oV",
      "include_colab_link": true
    },
    "kernelspec": {
      "display_name": "Python 3",
      "name": "python3"
    },
    "language_info": {
      "name": "python"
    }
  },
  "nbformat": 4,
  "nbformat_minor": 0
}